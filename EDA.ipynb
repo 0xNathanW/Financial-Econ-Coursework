{
 "cells": [
  {
   "cell_type": "code",
   "execution_count": 170,
   "metadata": {},
   "outputs": [],
   "source": [
    "import pandas as pd\n",
    "import numpy as np\n",
    "import matplotlib.pyplot as plt\n",
    "import seaborn as sns\n",
    "%matplotlib inline\n",
    "from sklearn.preprocessing import LabelEncoder"
   ]
  },
  {
   "cell_type": "code",
   "execution_count": 171,
   "metadata": {},
   "outputs": [
    {
     "data": {
      "text/html": [
       "<div>\n",
       "<style scoped>\n",
       "    .dataframe tbody tr th:only-of-type {\n",
       "        vertical-align: middle;\n",
       "    }\n",
       "\n",
       "    .dataframe tbody tr th {\n",
       "        vertical-align: top;\n",
       "    }\n",
       "\n",
       "    .dataframe thead th {\n",
       "        text-align: right;\n",
       "    }\n",
       "</style>\n",
       "<table border=\"1\" class=\"dataframe\">\n",
       "  <thead>\n",
       "    <tr style=\"text-align: right;\">\n",
       "      <th></th>\n",
       "      <th>Unnamed: 0</th>\n",
       "      <th>Company name</th>\n",
       "      <th>Gearing (%)\\n2018</th>\n",
       "      <th>BvD Independence Indicator</th>\n",
       "      <th>Number of employees\\n2018</th>\n",
       "      <th>Profit (Loss) before Taxation\\nth GBP 2018</th>\n",
       "      <th>Tangible Assets\\nth GBP 2018</th>\n",
       "      <th>Fixed Assets\\nth GBP 2018</th>\n",
       "    </tr>\n",
       "  </thead>\n",
       "  <tbody>\n",
       "    <tr>\n",
       "      <th>0</th>\n",
       "      <td>1</td>\n",
       "      <td>PARK CAMERAS GROUP LIMITED</td>\n",
       "      <td>17.67</td>\n",
       "      <td>D</td>\n",
       "      <td>68</td>\n",
       "      <td>1,624</td>\n",
       "      <td>2,340</td>\n",
       "      <td>2,340</td>\n",
       "    </tr>\n",
       "    <tr>\n",
       "      <th>1</th>\n",
       "      <td>2</td>\n",
       "      <td>THAMES VALLEY HOUSING ASSOCIATION LIMITED</td>\n",
       "      <td>114.04</td>\n",
       "      <td>A-</td>\n",
       "      <td>259</td>\n",
       "      <td>33,817</td>\n",
       "      <td>71,818</td>\n",
       "      <td>1,317,990</td>\n",
       "    </tr>\n",
       "    <tr>\n",
       "      <th>2</th>\n",
       "      <td>3</td>\n",
       "      <td>EIRGRID INTERCONNECTOR DESIGNATED ACTIVITY COM...</td>\n",
       "      <td>165.66</td>\n",
       "      <td>D</td>\n",
       "      <td>4</td>\n",
       "      <td>-6,539</td>\n",
       "      <td>426,724</td>\n",
       "      <td>426,724</td>\n",
       "    </tr>\n",
       "    <tr>\n",
       "      <th>3</th>\n",
       "      <td>4</td>\n",
       "      <td>AXALTA COATING SYSTEMS HUTHWAITE UK LIMITED</td>\n",
       "      <td>35.61</td>\n",
       "      <td>D</td>\n",
       "      <td>76</td>\n",
       "      <td>1,290</td>\n",
       "      <td>2,996</td>\n",
       "      <td>3,035</td>\n",
       "    </tr>\n",
       "    <tr>\n",
       "      <th>4</th>\n",
       "      <td>5</td>\n",
       "      <td>PNMSOFT UK LIMITED</td>\n",
       "      <td>985.14</td>\n",
       "      <td>D</td>\n",
       "      <td>27</td>\n",
       "      <td>207</td>\n",
       "      <td>14</td>\n",
       "      <td>14</td>\n",
       "    </tr>\n",
       "  </tbody>\n",
       "</table>\n",
       "</div>"
      ],
      "text/plain": [
       "   Unnamed: 0                                       Company name  \\\n",
       "0           1                         PARK CAMERAS GROUP LIMITED   \n",
       "1           2          THAMES VALLEY HOUSING ASSOCIATION LIMITED   \n",
       "2           3  EIRGRID INTERCONNECTOR DESIGNATED ACTIVITY COM...   \n",
       "3           4        AXALTA COATING SYSTEMS HUTHWAITE UK LIMITED   \n",
       "4           5                                 PNMSOFT UK LIMITED   \n",
       "\n",
       "  Gearing (%)\\n2018 BvD Independence Indicator Number of employees\\n2018  \\\n",
       "0             17.67                          D                        68   \n",
       "1            114.04                         A-                       259   \n",
       "2            165.66                          D                         4   \n",
       "3             35.61                          D                        76   \n",
       "4            985.14                          D                        27   \n",
       "\n",
       "  Profit (Loss) before Taxation\\nth GBP 2018 Tangible Assets\\nth GBP 2018  \\\n",
       "0                                      1,624                        2,340   \n",
       "1                                     33,817                       71,818   \n",
       "2                                     -6,539                      426,724   \n",
       "3                                      1,290                        2,996   \n",
       "4                                        207                           14   \n",
       "\n",
       "  Fixed Assets\\nth GBP 2018  \n",
       "0                     2,340  \n",
       "1                 1,317,990  \n",
       "2                   426,724  \n",
       "3                     3,035  \n",
       "4                        14  "
      ]
     },
     "execution_count": 171,
     "metadata": {},
     "output_type": "execute_result"
    }
   ],
   "source": [
    "# Import data from csv.\n",
    "df = pd.read_csv('./Data1.csv', encoding=\"ansi\")\n",
    "df.head()"
   ]
  },
  {
   "cell_type": "code",
   "execution_count": 172,
   "metadata": {},
   "outputs": [
    {
     "data": {
      "text/plain": [
       "Company name           0\n",
       "Gearing %              0\n",
       "Independence           0\n",
       "Number of Employees    0\n",
       "Profit before Tax      0\n",
       "Tangible Assets        0\n",
       "Fixed Assets           0\n",
       "dtype: int64"
      ]
     },
     "execution_count": 172,
     "metadata": {},
     "output_type": "execute_result"
    }
   ],
   "source": [
    "# Renaming columns.\n",
    "df.rename(columns={\n",
    "    \"Unnamed: 0\": \"id\", \n",
    "    \"Gearing (%)\\n2018\": \"Gearing %\", \n",
    "    \"BvD Independence Indicator\": \"Independence\",\n",
    "    \"Number of employees\\n2018\": \"Number of Employees\",\n",
    "    \"Profit (Loss) before Taxation\\nth GBP 2018\": \"Profit before Tax\",\n",
    "    \"Tangible Assets\\nth GBP 2018\": \"Tangible Assets\",\n",
    "    \"Fixed Assets\\nth GBP 2018\": \"Fixed Assets\"\n",
    "    }, \n",
    "    inplace=True)\n",
    "\n",
    "# Set index to id.\n",
    "df.set_index('id', inplace=True)\n",
    "\n",
    "# Replace weird null values with native numpy NaN.\n",
    "df.replace(to_replace=\"n.a.\", value=np.nan, inplace=True)\n",
    "df.replace(to_replace=\"n.s.\", value=np.nan, inplace=True)\n",
    "\n",
    "# Drop rows with missing values.\n",
    "df.dropna(inplace=True)\n",
    "df.isna().sum()"
   ]
  },
  {
   "cell_type": "code",
   "execution_count": 173,
   "metadata": {},
   "outputs": [
    {
     "data": {
      "text/plain": [
       "Company name           0\n",
       "Gearing %              0\n",
       "Independence           0\n",
       "Number of Employees    0\n",
       "Profit before Tax      0\n",
       "Tangible Assets        0\n",
       "Fixed Assets           0\n",
       "dtype: int64"
      ]
     },
     "execution_count": 173,
     "metadata": {},
     "output_type": "execute_result"
    }
   ],
   "source": [
    "# Get rid of commas in columns with numbers.\n",
    "cols = [\"Gearing %\", \"Number of Employees\", \"Profit before Tax\", \"Tangible Assets\", \"Fixed Assets\"]\n",
    "for col in cols:\n",
    "    df[col] = df[col].str.replace(',', '')\n",
    "\n",
    "# Convert columns to numeric datatypes.\n",
    "df[\"Gearing %\"] = pd.to_numeric(df[\"Gearing %\"], errors=\"raise\", downcast=\"float\").round(2)\n",
    "df[\"Number of Employees\"] = pd.to_numeric(df[\"Number of Employees\"], errors=\"coerce\", downcast=\"integer\")\n",
    "df[\"Profit before Tax\"] = pd.to_numeric(df[\"Profit before Tax\"], errors=\"coerce\", downcast=\"float\").round(2)\n",
    "df[\"Tangible Assets\"] = pd.to_numeric(df[\"Tangible Assets\"], errors=\"coerce\", downcast=\"integer\")\n",
    "df[\"Fixed Assets\"] = pd.to_numeric(df[\"Fixed Assets\"], errors=\"coerce\", downcast=\"integer\")\n",
    "\n",
    "# Label encode columns with categorical data.\n",
    "# map independence column with new values.\n",
    "df[\"Independence\"] = df[\"Independence\"].map({\"A+\": 10, \"A\": 9, \"A-\": 8, \"B+\": 7, \"B\": 6, \"B-\": 5, \"C+\": 4, \"C\": 3, \"C-\": 2, \"D\": 1, \"U\": 0})\n",
    "\n",
    "# Check for missing values resulting from conversion.\n",
    "df.isna().sum()"
   ]
  },
  {
   "cell_type": "code",
   "execution_count": 198,
   "metadata": {},
   "outputs": [],
   "source": [
    "df.head(10)\n",
    "\n",
    "# Define dependent and independent variables.\n",
    "Y = df[\"Gearing %\"] # dependent variable\n",
    "X_1 = df[\"Independence\"]\n",
    "X_2 = df[\"Number of Employees\"]\n",
    "X_3 = df[\"Profit before Tax\"]\n",
    "X_4 = df[\"Tangible Assets\"]\n",
    "X_5 = df[\"Fixed Assets\"]\n",
    "\n",
    "Independent_Variables = [X_1, X_2, X_3, X_4, X_5]\n",
    "\n",
    "# TODO: Windorise dataframe."
   ]
  },
  {
   "cell_type": "code",
   "execution_count": 195,
   "metadata": {},
   "outputs": [
    {
     "data": {
      "text/plain": [
       "<AxesSubplot:>"
      ]
     },
     "execution_count": 195,
     "metadata": {},
     "output_type": "execute_result"
    },
    {
     "data": {
      "image/png": "[encoded data removed]",
      "text/plain": [
       "<Figure size 576x432 with 2 Axes>"
      ]
     },
     "metadata": {
      "needs_background": "light"
     },
     "output_type": "display_data"
    }
   ],
   "source": [
    "# Plot correlation matrix.\n",
    "corr = df.corr()\n",
    "fig, ax = plt.subplots(figsize=(8, 6))\n",
    "sns.heatmap(corr,\n",
    "            xticklabels=corr.columns,\n",
    "            yticklabels=corr.columns,\n",
    "            annot=True,\n",
    "            cmap=\"jet\")\n"
   ]
  },
  {
   "cell_type": "code",
   "execution_count": 211,
   "metadata": {},
   "outputs": [
    {
     "data": {
      "text/plain": [
       "<AxesSubplot:xlabel='Gearing %', ylabel='Count'>"
      ]
     },
     "execution_count": 211,
     "metadata": {},
     "output_type": "execute_result"
    },
    {
     "data": {
      "image/png": "[encoded data removed]",
      "text/plain": [
       "<Figure size 432x288 with 1 Axes>"
      ]
     },
     "metadata": {
      "needs_background": "light"
     },
     "output_type": "display_data"
    }
   ],
   "source": [
    "# Distribution of dependent variable.\n",
    "sns.histplot(Y, palette=\"hsv\", color=\"green\", label=\"Gearing %\", alpha=0.5, kde=False, bins=20)"
   ]
  }
 ],
 "metadata": {
  "interpreter": {
   "hash": "9fdb9160099e666fbe1246fdc3611df6e34403c4a50d97f5ca90d3cacc6ef812"
  },
  "kernelspec": {
   "display_name": "Python 3.9.6 64-bit",
   "language": "python",
   "name": "python3"
  },
  "language_info": {
   "codemirror_mode": {
    "name": "ipython",
    "version": 3
   },
   "file_extension": ".py",
   "mimetype": "text/x-python",
   "name": "python",
   "nbconvert_exporter": "python",
   "pygments_lexer": "ipython3",
   "version": "3.9.6"
  },
  "orig_nbformat": 4
 },
 "nbformat": 4,
 "nbformat_minor": 2
}
